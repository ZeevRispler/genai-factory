{
 "cells": [
  {
   "cell_type": "markdown",
   "metadata": {},
   "source": [
    "# MongoDB Credit Card Agent Example\n",
    "\n",
    "## Table of Contents\n",
    "1. [Introduction](#Introduction)\n",
    "2. [Setup](#Setup)\n",
    "3. [Deploy Factory](#Deploying-the-GenAI-Factory)\n",
    "4. [Deploy Workflow](#Deploying-the-Workflow)\n",
    "5. [Ingest Recipe](#Ingest-Recipe)\n",
    "6. [Troubleshooting](#Troubleshooting)\n",
    "7. [Create Your Custom Step](#Short-tutorial---How-to-create-a-custom-step)\n",
    "\n",
    "## Introduction\n",
    "This notebook demonstrates how to set up and run an agent with a couple of tools.<br>\n",
    "The first tool is a simple RAG that is ingested with Gordon Ramsay's recipe for Beef Wellington, and the second tool is a Wikipedia search engine.<br>\n",
    "It covers the deployment of the controller, workflow, and UI components, as well as ingesting the recipe data."
   ]
  },
  {
   "cell_type": "markdown",
   "metadata": {},
   "source": [
    "## Setup\n",
    "\n",
    "Before you start, make sure you have completed the following steps:\n",
    "\n",
    "1. Install the required packages:"
   ]
  },
  {
   "metadata": {},
   "cell_type": "code",
   "source": "!pip install -r requirements.txt",
   "outputs": [],
   "execution_count": null
  },
  {
   "metadata": {},
   "cell_type": "markdown",
   "source": [
    "\n",
    "2. Install mlrun from the feature branch (temporary step):"
   ]
  },
  {
   "metadata": {},
   "cell_type": "code",
   "source": "!pip install git+https://github.com/mlrun/genai-factory.git\n",
   "outputs": [],
   "execution_count": null
  },
  {
   "metadata": {},
   "cell_type": "markdown",
   "source": [
    "\n",
    "3. Set the environment variable:"
   ]
  },
  {
   "cell_type": "code",
   "metadata": {},
   "source": [
    "!export GENAI_FACTORY_ENV_PATH=$(pwd)/.env"
   ],
   "outputs": [],
   "execution_count": null
  },
  {
   "cell_type": "code",
   "metadata": {},
   "source": [
    "%%writefile .env\n",
    "\n",
    "# Configure your environment variables here\n",
    "OPENAI_BASE_URL=...\n",
    "OPENAI_API_KEY = ...\n",
    "MONGO_CONNECTION_STRING=..."
   ],
   "outputs": [],
   "execution_count": null
  },
  {
   "cell_type": "markdown",
   "metadata": {},
   "source": [
    "## Deploying the GenAI Factory\n",
    "\n",
    "The following command will start the API controller server and the UI server in a local Docker container. It will also initialize the controller database."
   ]
  },
  {
   "cell_type": "markdown",
   "metadata": {},
   "source": [
    "```bash\n",
    "make genai-factory\n",
    "```\n",
    "\n",
    "Run the above command in your terminal to deploy the GenAI Factory."
   ]
  },
  {
   "cell_type": "markdown",
   "metadata": {},
   "source": [
    "## Deploying the Workflow"
   ]
  },
  {
   "cell_type": "code",
   "metadata": {},
   "source": [
    "# Deploy the workflow defined in workflow.py\n",
    "!genai-factory run workflow.py -c config.yaml"
   ],
   "outputs": [],
   "execution_count": null
  },
  {
   "cell_type": "markdown",
   "metadata": {},
   "source": [
    "This command will start the server and you should see output indicating that the server is running."
   ]
  },
  {
   "metadata": {},
   "cell_type": "markdown",
   "source": [
    "## Troubleshooting\n",
    "\n",
    "If you encounter any issues:\n",
    "\n",
    "1. Ensure all required packages are installed correctly.\n",
    "2. Check that the GENAI_FACTORY_ENV_PATH is set correctly.\n",
    "3. Make sure Docker is running for the controller deployment.\n",
    "4. Verify that the ports used (8000 for the workflow, 3000 for the UI, 8001 for the controller) are not in use by other applications.\n",
    "\n",
    "If problems persist, check the console output for specific error messages and refer to the project documentation for more detailed troubleshooting steps."
   ]
  },
  {
   "cell_type": "markdown",
   "metadata": {},
   "source": []
  }
 ],
 "metadata": {
  "kernelspec": {
   "display_name": "Python 3 (ipykernel)",
   "language": "python",
   "name": "python3"
  },
  "language_info": {
   "codemirror_mode": {
    "name": "ipython",
    "version": 3
   },
   "file_extension": ".py",
   "mimetype": "text/x-python",
   "name": "python",
   "nbconvert_exporter": "python",
   "pygments_lexer": "ipython3",
   "version": "3.9.19"
  }
 },
 "nbformat": 4,
 "nbformat_minor": 4
}
