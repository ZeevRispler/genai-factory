{
 "cells": [
  {
   "cell_type": "markdown",
   "metadata": {},
   "source": [
    "# Beef Wellington Recipe & Wikipedia Questioning Agent Example\n",
    "\n",
    "## Table of Contents\n",
    "1. [Introduction](#introduction)\n",
    "2. [Setup](#setup)\n",
    "3. [Deploy Controller](#deploy-controller)\n",
    "4. [Deploy Workflow](#deploy-workflow)\n",
    "5. [Ingest Recipe](#ingest-recipe)\n",
    "6. [Deploy UI](#deploy-ui)\n",
    "7. [Troubleshooting](#troubleshooting)\n",
    "\n",
    "## Introduction\n",
    "This notebook demonstrates how to set up and run a Wikipedia questioning agent using the Beef Wellington recipe as an example. It covers the deployment of the controller, workflow, and UI components, as well as ingesting the recipe data."
   ]
  },
  {
   "cell_type": "markdown",
   "metadata": {},
   "source": [
    "## Setup\n",
    "\n",
    "Before you start, make sure you have completed the following steps:\n",
    "\n",
    "1. Install the required packages:\n",
    "```bash\n",
    "pip install -r requirements.txt\n",
    "```\n",
    "\n",
    "2. Install mlrun from the feature branch (temporary step):\n",
    "```bash\n",
    "pip install git+https://github.com/mlrun/genai-factory.git\n",
    "```\n",
    "\n",
    "3. Set the environment variable:"
   ]
  },
  {
   "cell_type": "code",
   "execution_count": null,
   "metadata": {},
   "outputs": [],
   "source": [
    "%env AGENT_ENV_PATH=/path/to/your/genai-factory/examples/agent/.env"
   ]
  },
  {
   "cell_type": "markdown",
   "metadata": {},
   "source": [
    "## Deploy Controller\n",
    "\n",
    "This step will start the API controller server in a local Docker container and initialize the controller database."
   ]
  },
  {
   "cell_type": "code",
   "execution_count": null,
   "metadata": {},
   "outputs": [],
   "source": [
    "!cd ../../ && make controller"
   ]
  },
  {
   "cell_type": "markdown",
   "source": [
    "## Deploy Workflow\n",
    "\n",
    "Now we'll deploy the workflow using uvicorn:"
   ],
   "metadata": {
    "collapsed": false
   }
  },
  {
   "cell_type": "code",
   "execution_count": null,
   "metadata": {},
   "outputs": [],
   "source": [
    "!uvicorn pipeline:app\n"
   ]
  },
  {
   "cell_type": "markdown",
   "source": [
    "This command will start the server and you should see output indicating that the server is running."
   ],
   "metadata": {
    "collapsed": false
   }
  },
  {
   "cell_type": "markdown",
   "source": [
    "## Ingest Recipe\n",
    "\n",
    "To ingest the Gordon Ramsay Beef Wellington recipe into the system, run the following command in the controller's Docker container:"
   ],
   "metadata": {
    "collapsed": false
   }
  },
  {
   "cell_type": "code",
   "execution_count": null,
   "outputs": [],
   "source": [
    "!python -m controller.src.main ingest -l web https://www.gordonramsay.com/gr/recipes/beef-wellington/"
   ],
   "metadata": {
    "collapsed": false
   }
  },
  {
   "cell_type": "markdown",
   "source": [
    "## Deploy UI\n",
    "\n",
    "To start the UI server on port 3000, run:\n"
   ],
   "metadata": {
    "collapsed": false
   }
  },
  {
   "cell_type": "code",
   "execution_count": null,
   "outputs": [],
   "source": [
    "!npm run dev"
   ],
   "metadata": {
    "collapsed": false
   }
  },
  {
   "cell_type": "markdown",
   "metadata": {},
   "source": [
    "## Troubleshooting\n",
    "\n",
    "If you encounter any issues:\n",
    "\n",
    "1. Ensure all required packages are installed correctly.\n",
    "2. Check that the AGENT_ENV_PATH is set correctly.\n",
    "3. Make sure Docker is running for the controller deployment.\n",
    "4. Verify that the ports used (8000 for the workflow, 3000 for the UI) are not in use by other applications.\n",
    "\n",
    "If problems persist, check the console output for specific error messages and refer to the project documentation for more detailed troubleshooting steps."
   ]
  },
  {
   "cell_type": "markdown",
   "source": [
    "## Short tutorial - How to create a custom step\n",
    "\n",
    "1. Create a new Python file in the `genai_factory/src/chains` directory.\n",
    "2. Define a new class that inherits from `ChainRunner`.\n",
    "3. Implement the `_run` method with the desired functionality.\n",
    "4. The `_run` method gets an `event` input which states the condition of the workflow, the `event` usually contains a `query` field.\n",
    "   The `run` method is also expected to return a dictionary with the following keys: \"answer\", \"sources\". Any other fields are optional\n",
    "   for specific implementations.\n",
    "5. Initialize the class at the designated location inside the app's `workflow.py` file.\n",
    "6. Run the workflow to execute the new step as part of the app."
   ],
   "metadata": {
    "collapsed": false
   }
  },
  {
   "cell_type": "markdown",
   "source": [],
   "metadata": {
    "collapsed": false
   }
  }
 ],
 "metadata": {
  "kernelspec": {
   "display_name": "Python 3",
   "language": "python",
   "name": "python3"
  },
  "language_info": {
   "codemirror_mode": {
    "name": "ipython",
    "version": 3
   },
   "file_extension": ".py",
   "mimetype": "text/x-python",
   "name": "python",
   "nbconvert_exporter": "python",
   "pygments_lexer": "ipython3",
   "version": "3.8.0"
  }
 },
 "nbformat": 4,
 "nbformat_minor": 4
}
